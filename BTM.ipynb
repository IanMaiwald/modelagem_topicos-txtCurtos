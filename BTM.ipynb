{
 "cells": [
  {
   "cell_type": "code",
   "execution_count": 5,
   "id": "f6c88e68-b75f-4f9b-a17b-d5275e130b59",
   "metadata": {},
   "outputs": [],
   "source": [
    "import pandas as pd\n",
    "from sklearn.feature_extraction.text import CountVectorizer\n",
    "import bitermplus as btm"
   ]
  },
  {
   "cell_type": "code",
   "execution_count": null,
   "id": "2605c6b8-43ea-4891-af74-bdd0aab01cd2",
   "metadata": {},
   "outputs": [],
   "source": [
    "def preprocess_data(df, column_name):\n",
    "    vectorizer = CountVectorizer(stop_words='english')\n",
    "    X = vectorizer.fit_transform(df[column_name])\n",
    "    vocab = vectorizer.get_feature_names_out()\n",
    "    return X, vocab"
   ]
  },
  {
   "cell_type": "code",
   "execution_count": null,
   "id": "6b4a5493-a6b6-4414-9663-ccad3ab3773d",
   "metadata": {},
   "outputs": [],
   "source": [
    "def biterm_topic_modeling(df, column_name, n_topics, n_iter, save_model=False, model_path=None):\n",
    "    X, vocab = preprocess_data(df, column_name)\n",
    "    btm = BitermPlus(n_topics=n_topics, n_iter=n_iter)\n",
    "    btm.fit(X)\n",
    "\n",
    "    if save_model and model_path:\n",
    "        btm.save(model_path)\n",
    "\n",
    "    return btm"
   ]
  },
  {
   "cell_type": "code",
   "execution_count": null,
   "id": "0eeaf423-262b-4e52-a247-ba52f0018268",
   "metadata": {},
   "outputs": [],
   "source": [
    "def main():\n",
    "    # Leitura dos dados do dataframe\n",
    "    #df = pd.read_csv('datasets/(processado-final)textos_tuitesPt_2020.csv.gz', names=['texto'])\n",
    "    df = pd.read_csv('datasets/(processado)textos_tuitesPt_2020_0.csv', names=['texto'])\n",
    "\n",
    "    # Elimina um valor flutuante que aparece no dataframe (por razões misteriosas)\n",
    "    # o algoritmo não aceita o valor flutuante, que precisa ser filtrado\n",
    "    df = df[df['texto'].apply(lambda x: isinstance(x, str))]\n",
    "    df['texto'].apply(type).value_counts()\n",
    "\n",
    "    df\n",
    "\n",
    "    # Parâmetros do modelo\n",
    "    column_name = 'texto'\n",
    "    n_topics = 10\n",
    "    n_iter = 10\n",
    "\n",
    "    # Treinamento do modelo BTM\n",
    "    btm = biterm_topic_modeling(df, column_name, n_topics, n_iter)\n",
    "\n",
    "    # Exibir tópicos\n",
    "    topic_words = btm.get_topic_words(topn=5)\n",
    "    for i, words in enumerate(topic_words):\n",
    "        print(f'Tópico {i}: {\", \".join(words)}')\n",
    "\n",
    "if __name__ == \"__main__\":\n",
    "    main()"
   ]
  }
 ],
 "metadata": {
  "kernelspec": {
   "display_name": "Python 3 (ipykernel)",
   "language": "python",
   "name": "python3"
  },
  "language_info": {
   "codemirror_mode": {
    "name": "ipython",
    "version": 3
   },
   "file_extension": ".py",
   "mimetype": "text/x-python",
   "name": "python",
   "nbconvert_exporter": "python",
   "pygments_lexer": "ipython3",
   "version": "3.9.7"
  }
 },
 "nbformat": 4,
 "nbformat_minor": 5
}
