{
 "cells": [
  {
   "cell_type": "code",
   "execution_count": 1,
   "id": "ce334b60-1ebb-4f70-86f0-d82899e988e5",
   "metadata": {},
   "outputs": [],
   "source": [
    "import pandas as pd\n",
    "import numpy as np\n",
    "import scipy.sparse as sp\n",
    "from gensim.models import Word2Vec\n",
    "from nltk.tokenize import word_tokenize\n",
    "from sklearn.feature_extraction.text import CountVectorizer\n",
    "from sklearn.preprocessing import normalize"
   ]
  },
  {
   "cell_type": "code",
   "execution_count": 2,
   "id": "5d3d121e-037a-4595-8a71-eba41b564613",
   "metadata": {},
   "outputs": [],
   "source": [
    "def preprocess_data(df, column):\n",
    "    df[column] = df[column].apply(lambda x: [word.lower() for word in x])\n",
    "    return df"
   ]
  },
  {
   "cell_type": "code",
   "execution_count": 3,
   "id": "419a006f-70b1-44bb-8d45-a3bd28eb5498",
   "metadata": {},
   "outputs": [],
   "source": [
    "def train_word2vec(df, column, size=100, window=5, min_count=1, workers=4):\n",
    "    model = Word2Vec(sentences=df[column], window=window, min_count=min_count, workers=workers) # size=size,\n",
    "    return model"
   ]
  },
  {
   "cell_type": "code",
   "execution_count": 4,
   "id": "cd4eb254-91be-42b5-b4b2-f19e4f31332e",
   "metadata": {},
   "outputs": [],
   "source": [
    "def build_word_embedding_matrix(word2vec_model, vocabulary):\n",
    "    embedding_matrix = np.zeros((len(vocabulary), word2vec_model.vector_size))\n",
    "    for i, word in enumerate(vocabulary):\n",
    "        if word in word2vec_model.wv:\n",
    "            embedding_matrix[i] = word2vec_model.wv[word]\n",
    "    return embedding_matrix"
   ]
  },
  {
   "cell_type": "code",
   "execution_count": 5,
   "id": "5d313932-ee52-4b60-b9c3-0acb16137178",
   "metadata": {},
   "outputs": [],
   "source": [
    "def crftm(dataframe, text_column, n_topics=10, vector_size=100, window=5, min_count=1, workers=4, max_iter=100, tol=1e-6):\n",
    "    df = preprocess_data(dataframe, text_column)\n",
    "\n",
    "    word2vec_model = train_word2vec(df, text_column, size=vector_size, window=window, min_count=min_count, workers=workers)\n",
    "\n",
    "    vectorizer = CountVectorizer(tokenizer=lambda x: x, lowercase=False, min_df=min_count)\n",
    "    dtm = vectorizer.fit_transform(df[text_column])\n",
    "    dtm = normalize(dtm, norm='l1', axis=1)\n",
    "\n",
    "    vocabulary = vectorizer.get_feature_names()\n",
    "    embedding_matrix = build_word_embedding_matrix(word2vec_model, vocabulary)\n",
    "\n",
    "    n_docs, n_words = dtm.shape\n",
    "    word_topic = np.random.rand(n_words, n_topics)\n",
    "    doc_topic = np.random.rand(n_docs, n_topics)\n",
    "\n",
    "    prev_ll = 0\n",
    "    for iteration in range(max_iter):\n",
    "        word_topic /= word_topic.sum(axis=0)\n",
    "        doc_topic = dtm @ word_topic\n",
    "        doc_topic /= doc_topic.sum(axis=1)[:, np.newaxis]\n",
    "\n",
    "        word_topic = np.dot(dtm.T, doc_topic) + embedding_matrix\n",
    "        word_topic /= word_topic.sum(axis=0)\n",
    "\n",
    "        ll = np.sum(dtm * np.log(word_topic @ doc_topic.T))\n",
    "        if np.abs(ll - prev_ll) < tol:\n",
    "            break\n",
    "        prev_ll = ll\n",
    "\n",
    "    return doc_topic, word_topic, word2vec_model"
   ]
  },
  {
   "cell_type": "code",
   "execution_count": 6,
   "id": "5ce0f9bf-93c4-4756-853b-f2d7608d5148",
   "metadata": {},
   "outputs": [],
   "source": [
    "def display_topics(word_topic, vocabulary, n_top_words=10):\n",
    "    for topic_idx, topic in enumerate(word_topic.T):\n",
    "        print(f\"Topic #{topic_idx + 1}:\")\n",
    "        top_words_idx = topic.argsort()[:-n_top_words - 1:-1]\n",
    "        top_words = [vocabulary[i] for i in top_words_idx]\n",
    "        print(\" \".join(top_words))"
   ]
  },
  {
   "cell_type": "code",
   "execution_count": null,
   "id": "d0caca16-cb23-475e-bffa-e363a9c5a117",
   "metadata": {},
   "outputs": [],
   "source": [
    "# Leitura dos dados do dataframe\n",
    "#df = pd.read_csv('datasets/(processado-final)textos_tuitesPt_2020.csv.gz', names=['texto'])\n",
    "df = pd.read_csv('datasets/(processado)textos_tuitesPt_2020_0.csv', names=['texto'])\n",
    "\n",
    "# Elimina um valor flutuante que aparece no dataframe (por razões misteriosas)\n",
    "# o algoritmo não aceita o valor flutuante, que precisa ser filtrado\n",
    "df = df[df['texto'].apply(lambda x: isinstance(x, str))]\n",
    "df['texto'].apply(type).value_counts()\n",
    "\n",
    "df"
   ]
  },
  {
   "cell_type": "code",
   "execution_count": null,
   "id": "233763e4-4255-4abf-b35b-e56674dd4abb",
   "metadata": {},
   "outputs": [],
   "source": [
    "doc_topic, word_topic, word2vec_model = crftm(df, 'texto', n_topics=10, vector_size=10)"
   ]
  },
  {
   "cell_type": "code",
   "execution_count": null,
   "id": "41b31ed9-0273-4baa-a105-427294b94cb5",
   "metadata": {},
   "outputs": [],
   "source": [
    "vocabulary = vectorizer.get_feature_names_out()\n",
    "display_topics(word_topic, vocabulary, n_top_words=10)"
   ]
  }
 ],
 "metadata": {
  "kernelspec": {
   "display_name": "Python 3 (ipykernel)",
   "language": "python",
   "name": "python3"
  },
  "language_info": {
   "codemirror_mode": {
    "name": "ipython",
    "version": 3
   },
   "file_extension": ".py",
   "mimetype": "text/x-python",
   "name": "python",
   "nbconvert_exporter": "python",
   "pygments_lexer": "ipython3",
   "version": "3.9.7"
  }
 },
 "nbformat": 4,
 "nbformat_minor": 5
}
