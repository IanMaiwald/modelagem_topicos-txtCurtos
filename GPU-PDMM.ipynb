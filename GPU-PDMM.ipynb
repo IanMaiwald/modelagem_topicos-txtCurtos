{
 "cells": [
  {
   "cell_type": "code",
   "execution_count": 1,
   "id": "6016f236-b022-4855-b311-9ac521cbe63f",
   "metadata": {},
   "outputs": [],
   "source": [
    "import numpy as np\n",
    "import pandas as pd\n",
    "import re\n",
    "from nltk.tokenize import word_tokenize"
   ]
  },
  {
   "cell_type": "code",
   "execution_count": 2,
   "id": "d12ca2e1-2340-451c-9d72-d3f55797c2da",
   "metadata": {},
   "outputs": [],
   "source": [
    "def generalized_polya_urn(num_colors, initial_counts, iterations, poisson_lambda):\n",
    "    urn_counts = np.array(initial_counts, dtype=int)\n",
    "    for _ in range(iterations):\n",
    "        chosen_color = np.random.choice(num_colors, p=urn_counts / urn_counts.sum())\n",
    "        additional_balls = np.random.poisson(poisson_lambda)\n",
    "        urn_counts[chosen_color] += additional_balls\n",
    "\n",
    "    return urn_counts.tolist()"
   ]
  },
  {
   "cell_type": "code",
   "execution_count": 3,
   "id": "a2d7067d-24b6-4aaa-a169-a85be00d7e68",
   "metadata": {},
   "outputs": [],
   "source": [
    "def dirichlet_mixture_model(tokenized_docs, num_topics, alpha, poisson_lambda, iterations):\n",
    "    num_docs = len(tokenized_docs)\n",
    "    vocab = sorted(list(set(word for doc in tokenized_docs for word in doc)))\n",
    "    num_words = len(vocab)\n",
    "    word_indices = {word: idx for idx, word in enumerate(vocab)}\n",
    "\n",
    "    word_counts_by_topic = np.zeros((num_topics, num_words), dtype=int)\n",
    "    topic_assignments = np.random.randint(0, num_topics, size=num_docs)\n",
    "    epsilon = 1e-9  # Small value to avoid division by zero\n",
    "\n",
    "    # Initialize word_counts_by_topic\n",
    "    for doc_idx, doc in enumerate(tokenized_docs):\n",
    "        topic = topic_assignments[doc_idx]\n",
    "        for word in doc:\n",
    "            word_idx = word_indices[word]\n",
    "            word_counts_by_topic[topic, word_idx] += 1\n",
    "\n",
    "    # Main loop\n",
    "    for _ in range(iterations):\n",
    "        for doc_idx, doc in enumerate(tokenized_docs):\n",
    "            current_topic = topic_assignments[doc_idx]\n",
    "\n",
    "            # Remove word counts of the current document from word_counts_by_topic\n",
    "            for word in doc:\n",
    "                word_idx = word_indices[word]\n",
    "                word_counts_by_topic[current_topic, word_idx] -= 1\n",
    "\n",
    "            # Calculate topic probabilities\n",
    "            doc_word_indices = [word_indices[word] for word in doc]\n",
    "            doc_word_counts = word_counts_by_topic[:, doc_word_indices]\n",
    "            topic_probabilities = (doc_word_counts.sum(axis=1) + alpha) / (doc_word_counts.sum() + num_topics * alpha)\n",
    "            topic_probabilities *= (doc_word_counts + poisson_lambda).prod(axis=1)\n",
    "            topic_probabilities = np.maximum(topic_probabilities, epsilon)  # Ensure non-negative probabilities\n",
    "            topic_probabilities /= topic_probabilities.sum()  # Normalize probabilities\n",
    "\n",
    "            # Sample a new topic and update word_counts_by_topic\n",
    "            new_topic = np.random.choice(num_topics, p=topic_probabilities)\n",
    "            topic_assignments[doc_idx] = new_topic\n",
    "            for word in doc:\n",
    "                word_idx = word_indices[word]\n",
    "                word_counts_by_topic[new_topic, word_idx] += 1\n",
    "\n",
    "    return topic_assignments, vocab, word_counts_by_topic"
   ]
  },
  {
   "cell_type": "code",
   "execution_count": 4,
   "id": "53cc1652-ce1f-4992-ac31-e84b241b841f",
   "metadata": {},
   "outputs": [],
   "source": [
    "def preprocess_data(data):\n",
    "    data['tokens'] = data['texto'].apply(lambda x: [word for word in word_tokenize(x.lower()) if word.isalnum()])\n",
    "    return data['tokens'].tolist()"
   ]
  },
  {
   "cell_type": "code",
   "execution_count": 5,
   "id": "14d6ba1f-7302-4070-bd45-f98479abaa0a",
   "metadata": {},
   "outputs": [],
   "source": [
    "def train_gpu_pdmm(data, num_topics, alpha, poisson_lambda, iterations):\n",
    "    tokenized_docs = preprocess_data(data)\n",
    "    topic_assignments = dirichlet_mixture_model(tokenized_docs, num_topics, alpha, poisson_lambda, iterations)\n",
    "    return topic_assignments"
   ]
  },
  {
   "cell_type": "code",
   "execution_count": 6,
   "id": "fe38e581-73a8-462a-a153-dfb1048900db",
   "metadata": {},
   "outputs": [],
   "source": [
    "def get_top_words_by_topic(word_counts_by_topic, vocab, num_top_words=10):\n",
    "    top_words_by_topic = []\n",
    "    for topic_idx in range(word_counts_by_topic.shape[0]):\n",
    "        top_word_indices = np.argsort(word_counts_by_topic[topic_idx, :])[-num_top_words:][::-1]\n",
    "        top_words = [vocab[word_idx] for word_idx in top_word_indices]\n",
    "        top_words_by_topic.append(top_words)\n",
    "    return top_words_by_topic"
   ]
  },
  {
   "cell_type": "code",
   "execution_count": null,
   "id": "b38793e2-b15e-4dda-8ec2-881765234b4c",
   "metadata": {},
   "outputs": [],
   "source": [
    "# Leitura dos dados do dataframe\n",
    "#df = pd.read_csv('datasets/(processado-final)textos_tuitesPt_2020.csv.gz', names=['texto'])\n",
    "df = pd.read_csv('datasets/(processado)textos_tuitesPt_2020_0.csv', names=['texto'])\n",
    "\n",
    "# Elimina um valor flutuante que aparece no dataframe (por razões misteriosas)\n",
    "# o algoritmo não aceita o valor flutuante, que precisa ser filtrado\n",
    "df = df[df['texto'].apply(lambda x: isinstance(x, str))]\n",
    "df['texto'].apply(type).value_counts()\n",
    "\n",
    "df"
   ]
  },
  {
   "cell_type": "code",
   "execution_count": 8,
   "id": "c9535496-01f9-4080-92c3-7f6761392a3b",
   "metadata": {},
   "outputs": [],
   "source": [
    "# Tokenize os documentos\n",
    "def tokenize(text):\n",
    "    return re.findall(r'\\b\\w+\\b', text.lower())\n",
    "\n",
    "tokenized_docs = [tokenize(doc) for doc in df['texto']]"
   ]
  },
  {
   "cell_type": "code",
   "execution_count": 9,
   "id": "6747397e-936e-4c98-aa56-5ced07a2198c",
   "metadata": {},
   "outputs": [],
   "source": [
    "# Execute o algoritmo GPU-PDMM\n",
    "num_topics = 10\n",
    "alpha = 1.0\n",
    "poisson_lambda = 1.0\n",
    "iterations = 10\n",
    "topic_assignments, vocab, word_counts_by_topic = dirichlet_mixture_model(tokenized_docs, num_topics, alpha, poisson_lambda, iterations)"
   ]
  },
  {
   "cell_type": "code",
   "execution_count": 10,
   "id": "8e2d0c08-c392-4141-b7c4-6c97b8cceb26",
   "metadata": {},
   "outputs": [],
   "source": [
    "# Obtenha as palavras mais frequentes para cada tópico\n",
    "num_top_words = 10\n",
    "top_words_by_topic = get_top_words_by_topic(word_counts_by_topic, vocab, num_top_words)"
   ]
  },
  {
   "cell_type": "code",
   "execution_count": null,
   "id": "d7d35320-e578-4104-95f7-b89e2f4e0d74",
   "metadata": {},
   "outputs": [],
   "source": [
    "# Exiba os tópicos e suas palavras mais frequentes\n",
    "for topic_idx, top_words in enumerate(top_words_by_topic):\n",
    "    print(f\"Topic {topic_idx + 1}: {', '.join(top_words)}\")"
   ]
  }
 ],
 "metadata": {
  "kernelspec": {
   "display_name": "Python 3 (ipykernel)",
   "language": "python",
   "name": "python3"
  },
  "language_info": {
   "codemirror_mode": {
    "name": "ipython",
    "version": 3
   },
   "file_extension": ".py",
   "mimetype": "text/x-python",
   "name": "python",
   "nbconvert_exporter": "python",
   "pygments_lexer": "ipython3",
   "version": "3.9.7"
  }
 },
 "nbformat": 4,
 "nbformat_minor": 5
}
