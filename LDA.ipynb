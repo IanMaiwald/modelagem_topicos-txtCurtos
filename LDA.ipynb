{
 "cells": [
  {
   "cell_type": "code",
   "execution_count": 1,
   "id": "39ebf7b7-8488-4e35-a75d-62d7b1afff82",
   "metadata": {},
   "outputs": [],
   "source": [
    "# Importando as libs necessárias\n",
    "\n",
    "import pandas as pd\n",
    "import numpy as np\n",
    "import gensim\n",
    "from gensim import corpora\n",
    "from gensim.models import LdaModel, FastText, Word2Vec\n",
    "from gensim.models.coherencemodel import CoherenceModel\n",
    "from gensim import corpora, models, similarities\n",
    "from gensim.matutils import hellinger\n",
    "from gensim.matutils import sparse2full"
   ]
  },
  {
   "cell_type": "code",
   "execution_count": null,
   "id": "198ca14e-c177-49bd-8b0c-3ed9c8a2734d",
   "metadata": {},
   "outputs": [],
   "source": [
    "# Leitura dos dados do dataframe\n",
    "#df = pd.read_csv('datasets/(processado-final)textos_tuitesPt_2020.csv.gz', names=['texto'])\n",
    "df = pd.read_csv('datasets/(processado)textos_tuitesPt_2020_0.csv', names=['texto'])\n",
    "\n",
    "# Elimina um valor flutuante que aparece no dataframe (por razões misteriosas)\n",
    "# o algoritmo não aceita o valor flutuante, que precisa ser filtrado\n",
    "df = df[df['texto'].apply(lambda x: isinstance(x, str))]\n",
    "df['texto'].apply(type).value_counts()\n",
    "\n",
    "df"
   ]
  },
  {
   "cell_type": "code",
   "execution_count": 3,
   "id": "5be3cf4f-f66e-4c40-bcf8-d1c35c397e81",
   "metadata": {},
   "outputs": [],
   "source": [
    "# Extrair os textos dos documentos\n",
    "docs = df['texto'].tolist()\n",
    "\n",
    "# Tokenização dos documentos\n",
    "docs_tokenizados = [doc.split() for doc in docs]"
   ]
  },
  {
   "cell_type": "code",
   "execution_count": 4,
   "id": "faacf579-dd59-4354-ae19-172dd8c1c931",
   "metadata": {},
   "outputs": [],
   "source": [
    "# Criar um dicionário a partir dos documentos tokenizados\n",
    "dicionario = corpora.Dictionary(docs_tokenizados)"
   ]
  },
  {
   "cell_type": "code",
   "execution_count": 5,
   "id": "eac0f434-06f7-4718-8fca-01940fde258a",
   "metadata": {},
   "outputs": [],
   "source": [
    "# Criar um corpus a partir do dicionário e dos documentos tokenizados\n",
    "corpus = [dicionario.doc2bow(doc) for doc in docs_tokenizados]"
   ]
  },
  {
   "cell_type": "code",
   "execution_count": 6,
   "id": "f57e68c9-a9ad-4bec-8dda-bb608796fd4f",
   "metadata": {},
   "outputs": [],
   "source": [
    "# Treinar o modelo LDA\n",
    "modelo_lda = gensim.models.LdaMulticore(corpus=corpus, id2word=dicionario, num_topics=10, passes=10, workers=4)"
   ]
  },
  {
   "cell_type": "code",
   "execution_count": null,
   "id": "0571e639-de43-4327-b192-902613b3158a",
   "metadata": {},
   "outputs": [],
   "source": [
    "# Imprimir os tópicos do modelo\n",
    "for topico in modelo_lda.print_topics(num_words=20):\n",
    "    print(topico)"
   ]
  },
  {
   "cell_type": "code",
   "execution_count": null,
   "id": "40b1fb38-f1e0-4ecd-a107-0a8d71229649",
   "metadata": {},
   "outputs": [],
   "source": [
    "perplexidade = modelo_lda.log_perplexity(corpus)\n",
    "\n",
    "print(f\"A perplexidade do modelo LDA é {perplexidade}\")"
   ]
  },
  {
   "cell_type": "code",
   "execution_count": 9,
   "id": "d815e054-e14a-4987-b2bc-d9a664f0c6be",
   "metadata": {},
   "outputs": [],
   "source": [
    "# Calcular a distância de tópicos\n",
    "distance_matrix = similarities.MatrixSimilarity([modelo_lda.get_topic_terms(topicid) for topicid in range(modelo_lda.num_topics)])\n",
    "hellinger_distance_matrix = distance_matrix.index\n",
    "for i in range(modelo_lda.num_topics):\n",
    "    for j in range(i+1, modelo_lda.num_topics):\n",
    "        hellinger_distance_matrix[i][j] = hellinger(modelo_lda.get_topic_terms(i), modelo_lda.get_topic_terms(j))\n",
    "\n",
    "# Imprimir a matriz de distância\n",
    "print(hellinger_distance_matrix)\n",
    "\n",
    "# Calcular a mediana da matriz de distância de Hellinger\n",
    "median_distance = np.median(hellinger_distance_matrix)\n",
    "\n",
    "print(f\"A distância de tópicos média é {median_distance}\")"
   ]
  },
  {
   "cell_type": "code",
   "execution_count": 11,
   "id": "877bac82-5988-4fe6-b6a8-039b5ee17302",
   "metadata": {},
   "outputs": [],
   "source": [
    "# Obter as distribuições de palavras para cada tópico\n",
    "topic_word_dists = modelo_lda.get_topics()\n",
    "\n",
    "# Calcular a divergência KL-simétrica entre todos os pares de tópicos\n",
    "num_topics = modelo_lda.num_topics\n",
    "kl_divergence_matrix = np.zeros((num_topics, num_topics))\n",
    "for i in range(num_topics):\n",
    "    for j in range(i+1, num_topics):\n",
    "        kl_divergence = 0.5 * (hellinger(sparse2full(modelo_lda.get_topic_terms(i), len(dicionario)), topic_word_dists[j]) +\n",
    "                               hellinger(sparse2full(modelo_lda.get_topic_terms(j), len(dicionario)), topic_word_dists[i]))\n",
    "        kl_divergence_matrix[i][j] = kl_divergence\n",
    "        kl_divergence_matrix[j][i] = kl_divergence\n",
    "\n",
    "# Imprimir a matriz de divergência KL-simétrica\n",
    "print(kl_divergence_matrix)"
   ]
  },
  {
   "cell_type": "code",
   "execution_count": 13,
   "id": "29da43a8-79a3-43f4-b7f3-8cadea6a8c25",
   "metadata": {},
   "outputs": [
    {
     "name": "stdout",
     "output_type": "stream",
     "text": [
      "A divergência KL média dos tópicos é 0.7109533816603362\n"
     ]
    }
   ],
   "source": [
    "# Calcular a mediana da matriz de distância de Hellinger\n",
    "median_kl_divergence = np.median(kl_divergence_matrix)\n",
    "\n",
    "print(f\"A divergência KL média dos tópicos é {median_kl_divergence}\")"
   ]
  },
  {
   "cell_type": "code",
   "execution_count": null,
   "id": "a35e595b-7e19-42f2-8f23-873854d71e2f",
   "metadata": {},
   "outputs": [],
   "source": [
    "# Calcular a medida de coerência C_umass\n",
    "coherence_model = CoherenceModel(model=modelo_lda, texts=docs_tokenizados, dictionary=dicionario, coherence='u_mass')\n",
    "coherence_score = coherence_model.get_coherence()\n",
    "\n",
    "# Imprimir a medida de coerência C_umass\n",
    "print('A coerência C_umass dos tópicos é', coherence_score)"
   ]
  },
  {
   "cell_type": "code",
   "execution_count": null,
   "id": "c6f0face-b18a-4acd-9bfe-1c4671a0e952",
   "metadata": {},
   "outputs": [],
   "source": [
    "# Calcular a medida de coerência C_w2v\n",
    "coherence_model = CoherenceModel(model=modelo_lda, texts=docs_tokenizados, dictionary=dicionario, coherence='c_w2v')\n",
    "coherence_score = coherence_model.get_coherence()\n",
    "\n",
    "# Imprimir a medida de coerência C_w2v\n",
    "print('A coerência C_w2v dos tópicos é',coherence_score)"
   ]
  }
 ],
 "metadata": {
  "kernelspec": {
   "display_name": "Python 3 (ipykernel)",
   "language": "python",
   "name": "python3"
  },
  "language_info": {
   "codemirror_mode": {
    "name": "ipython",
    "version": 3
   },
   "file_extension": ".py",
   "mimetype": "text/x-python",
   "name": "python",
   "nbconvert_exporter": "python",
   "pygments_lexer": "ipython3",
   "version": "3.9.7"
  }
 },
 "nbformat": 4,
 "nbformat_minor": 5
}
