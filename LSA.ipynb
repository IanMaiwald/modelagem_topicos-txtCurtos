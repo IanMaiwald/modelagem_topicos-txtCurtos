{
 "cells": [
  {
   "cell_type": "code",
   "execution_count": 21,
   "id": "f4bb195d-ec05-405c-a9b6-06c989aab82e",
   "metadata": {},
   "outputs": [],
   "source": [
    "import pandas as pd\n",
    "import numpy as np\n",
    "from sklearn.feature_extraction.text import TfidfVectorizer\n",
    "from sklearn.preprocessing import Normalizer\n",
    "from sklearn.metrics.pairwise import cosine_distances\n",
    "import gensim\n",
    "from gensim.models import LsiModel\n",
    "from gensim.matutils import kullback_leibler, jensen_shannon\n",
    "from gensim.similarities import MatrixSimilarity\n",
    "from scipy.sparse import csr_matrix\n",
    "from gensim.models import TfidfModel\n",
    "from gensim.models.coherencemodel import CoherenceModel\n",
    "import nltk\n",
    "from nltk.tokenize import word_tokenize"
   ]
  },
  {
   "cell_type": "code",
   "execution_count": null,
   "id": "d4d740e4-702d-49e1-bc41-270ad7983386",
   "metadata": {},
   "outputs": [],
   "source": [
    "# Leitura dos dados do dataframe\n",
    "#df = pd.read_csv('datasets/(processado-final)textos_tuitesPt_2020.csv.gz', names=['texto'])\n",
    "df = pd.read_csv('datasets/(processado)textos_tuitesPt_2020_0.csv', names=['texto'])\n",
    "\n",
    "# Elimina um valor flutuante que aparece no dataframe (por razões misteriosas)\n",
    "# o algoritmo não aceita o valor flutuante, que precisa ser filtrado\n",
    "df = df[df['texto'].apply(lambda x: isinstance(x, str))]\n",
    "df['texto'].apply(type).value_counts()\n",
    "\n",
    "df"
   ]
  },
  {
   "cell_type": "code",
   "execution_count": 3,
   "id": "92675ff7-7f20-4433-8e55-fd3211a57d2f",
   "metadata": {},
   "outputs": [],
   "source": [
    "tfidf_vectorizer = TfidfVectorizer(stop_words=None, \n",
    "                                    max_df=0.7, \n",
    "                                    min_df=5, \n",
    "                                    use_idf=True, \n",
    "                                    smooth_idf=True, \n",
    "                                    sublinear_tf=True)\n",
    "matriz_tfidf = tfidf_vectorizer.fit_transform(df['texto'])"
   ]
  },
  {
   "cell_type": "code",
   "execution_count": 4,
   "id": "de279928-eb0e-4cd2-ad04-d216921694ae",
   "metadata": {},
   "outputs": [],
   "source": [
    "# Obtendo todos os documentos como uma lista\n",
    "docs = df['texto'].tolist()\n",
    "\n",
    "# Criando uma lista de palavras\n",
    "words = []\n",
    "for doc in docs:\n",
    "    words += doc.split()\n",
    "\n",
    "# Removendo palavras repetidas\n",
    "terms = list(set(words))"
   ]
  },
  {
   "cell_type": "code",
   "execution_count": 5,
   "id": "cf2f1595-6692-4495-a193-a92b7bf3ae57",
   "metadata": {},
   "outputs": [],
   "source": [
    "corpus = gensim.matutils.Sparse2Corpus(matriz_tfidf.T)\n",
    "dictionary = gensim.corpora.Dictionary.from_corpus(corpus, id2word=dict((i, term) for i, term in enumerate(terms)))"
   ]
  },
  {
   "cell_type": "code",
   "execution_count": 6,
   "id": "f46715c9-781c-4617-868c-832a9e313550",
   "metadata": {},
   "outputs": [],
   "source": [
    "# Dividindo o corpus em conjuntos de treinamento e teste\n",
    "num_docs = matriz_tfidf.shape[0]\n",
    "train_docs = np.random.choice(num_docs, int(num_docs*0.8), replace=False)\n",
    "test_docs = np.setdiff1d(range(num_docs), train_docs)"
   ]
  },
  {
   "cell_type": "code",
   "execution_count": 7,
   "id": "58ea21a5-a828-447a-a24e-942c0de327b8",
   "metadata": {},
   "outputs": [],
   "source": [
    "# Criando o modelo LSA para o conjunto de treinamento\n",
    "num_topics = 10\n",
    "lsa_model = gensim.models.LsiModel(corpus=corpus, id2word=dictionary, num_topics=num_topics)\n",
    "train_corpus = gensim.matutils.Sparse2Corpus(matriz_tfidf[train_docs].T)\n",
    "lsa_model = gensim.models.LsiModel(train_corpus, id2word=dictionary, num_topics=num_topics)"
   ]
  },
  {
   "cell_type": "code",
   "execution_count": 8,
   "id": "009fe4e7-38d4-4fe4-972e-1a40a0a188fd",
   "metadata": {},
   "outputs": [],
   "source": [
    "# Reconstruindo o corpus de teste a partir do modelo LSA\n",
    "test_corpus = gensim.matutils.Sparse2Corpus(matriz_tfidf[test_docs].T)\n",
    "reconstructed_corpus = []\n",
    "for doc in test_corpus:\n",
    "    reconstructed_doc = lsa_model[doc]\n",
    "    reconstructed_corpus.append(reconstructed_doc)"
   ]
  },
  {
   "cell_type": "code",
   "execution_count": null,
   "id": "e13825fe-8346-41b7-b55b-20499e7a95d1",
   "metadata": {},
   "outputs": [],
   "source": [
    "for topic_num, topic_words in lsa_model.print_topics(num_topics=num_topics):\n",
    "    print('Tópico {}:'.format(topic_num))\n",
    "    words = topic_words.split()\n",
    "    print(words)"
   ]
  },
  {
   "cell_type": "code",
   "execution_count": 10,
   "id": "8f9841ef-34da-46d8-962d-a79c158c0d90",
   "metadata": {},
   "outputs": [],
   "source": [
    "# Calculando a perplexidade\n",
    "#perplexity = gensim.models.CoherenceModel(topics=[lsa_model.show_topic(i) for i in range(num_topics)], corpus=reconstructed_corpus, dictionary=dictionary, coherence='u_mass').get_coherence()"
   ]
  },
  {
   "cell_type": "code",
   "execution_count": 11,
   "id": "6c853cc3-aa2b-47c0-846e-a14c4bbe32bc",
   "metadata": {},
   "outputs": [],
   "source": [
    "# Obtém a matriz de tópicos\n",
    "topic_matrix = lsa_model.get_topics()\n",
    "topic_matrix = topic_matrix.T\n",
    "\n",
    "# Calcula a distância de cosseno entre todos os pares de tópicos\n",
    "distance_matrix = cosine_distances(topic_matrix)\n",
    "\n",
    "# Calcula a mediana da matriz de distância de tópicos\n",
    "median_distance = np.median(distance_matrix)\n",
    "\n",
    "# Imprime a mediana da matriz de distância de tópicos\n",
    "print(\"A distância de tópicos: \", median_distance)"
   ]
  },
  {
   "cell_type": "code",
   "execution_count": 13,
   "id": "4e51c518-2f3e-4022-9df7-f3521945a644",
   "metadata": {},
   "outputs": [],
   "source": [
    "# Cria um objeto TfidfModel a partir do corpus\n",
    "tfidf_model = TfidfModel(corpus)\n",
    "\n",
    "# Calcula a matriz TF-IDF para o corpus\n",
    "corpus_tfidf = tfidf_model[corpus]\n",
    "\n",
    "# Calcula a divergência KL simétrica entre todos os pares de tópicos\n",
    "similarity_matrix = MatrixSimilarity(lsa_model[corpus_tfidf], num_features=num_topics)\n",
    "kl_divergences = similarity_matrix.get_similarities(topic_matrix)\n",
    "\n",
    "# Substitui NaNs por zeros\n",
    "#kl_divergences = np.nan_to_num(kl_divergences)\n",
    "\n",
    "# Calcula a média da matriz de divergência KL simétrica\n",
    "mean_kl_divergence = np.mean(kl_divergences)\n",
    "\n",
    "# Imprime a média da matriz de divergência KL simétrica\n",
    "print(\"Média da matriz de diverência KL simétrica: \", mean_kl_divergence)"
   ]
  },
  {
   "cell_type": "code",
   "execution_count": null,
   "id": "b407af70-8a60-4b84-8081-120e89b6505b",
   "metadata": {},
   "outputs": [],
   "source": [
    "# Cria um objeto CoherenceModel para calcular a coerência C_umass\n",
    "coherence_model = CoherenceModel(model=lsa_model, corpus=corpus_tfidf, dictionary=dictionary, coherence='u_mass')\n",
    "\n",
    "# Calcula a coerência C_umass\n",
    "umass_coherence = coherence_model.get_coherence()\n",
    "\n",
    "print(\"A coerência C_umass é: \", umass_coherence)"
   ]
  },
  {
   "cell_type": "code",
   "execution_count": null,
   "id": "a99e3e1f-80b3-4371-bceb-81d2763232c5",
   "metadata": {},
   "outputs": [],
   "source": [
    "textos_preprocessados = []\n",
    "for texto in docs:\n",
    "    # Tokenização das palavras\n",
    "    tokens = word_tokenize(texto)\n",
    "    textos_preprocessados.append(tokens)\n",
    "\n",
    "# Cria um objeto CoherenceModel para calcular a coerência C_w2v\n",
    "coherence_model = CoherenceModel(model=lsa_model, texts=textos_preprocessados, dictionary=dictionary, coherence='c_w2v', window_size=10)\n",
    "\n",
    "# Calcula a coerência C_w2v\n",
    "w2v_coherence = coherence_model.get_coherence()\n",
    "\n",
    "print(\"A coerência C_w2v é: \", w2v_coherence)"
   ]
  }
 ],
 "metadata": {
  "kernelspec": {
   "display_name": "Python 3 (ipykernel)",
   "language": "python",
   "name": "python3"
  },
  "language_info": {
   "codemirror_mode": {
    "name": "ipython",
    "version": 3
   },
   "file_extension": ".py",
   "mimetype": "text/x-python",
   "name": "python",
   "nbconvert_exporter": "python",
   "pygments_lexer": "ipython3",
   "version": "3.9.7"
  }
 },
 "nbformat": 4,
 "nbformat_minor": 5
}
