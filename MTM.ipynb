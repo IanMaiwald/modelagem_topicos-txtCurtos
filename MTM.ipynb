{
 "cells": [
  {
   "cell_type": "code",
   "execution_count": 1,
   "id": "93789927-bb66-425c-8a1c-7930172163f0",
   "metadata": {},
   "outputs": [],
   "source": [
    "import numpy as np\n",
    "import pandas as pd\n",
    "from sklearn.feature_extraction.text import CountVectorizer"
   ]
  },
  {
   "cell_type": "code",
   "execution_count": 2,
   "id": "9f0e820d-f78c-4c71-8e80-c9498caa2c3a",
   "metadata": {},
   "outputs": [],
   "source": [
    "# Preparação dos dados de entrada\n",
    "def prepare_input_data(dataframe, column_name):\n",
    "    vectorizer = CountVectorizer()\n",
    "    data_matrix = vectorizer.fit_transform(dataframe[column_name])\n",
    "    return data_matrix, vectorizer"
   ]
  },
  {
   "cell_type": "code",
   "execution_count": 3,
   "id": "d6434ca0-68bd-4e8b-9358-558a8883fead",
   "metadata": {},
   "outputs": [],
   "source": [
    "# Classe MTM\n",
    "class MTM:\n",
    "    def __init__(self, data_matrix, n_topics, n_iters):\n",
    "        self.data_matrix = data_matrix\n",
    "        self.n_docs, self.n_words = data_matrix.shape\n",
    "        self.n_topics = n_topics\n",
    "        self.n_iters = n_iters\n",
    "\n",
    "    def initialize(self):\n",
    "        self.topic_word_counts = np.random.randint(1, 10, size=(self.n_topics, self.n_words))\n",
    "        self.topic_counts = np.sum(self.topic_word_counts, axis=1)\n",
    "        self.document_topic_counts = np.zeros((self.n_docs, self.n_topics))\n",
    "        self.document_counts = np.zeros(self.n_docs)\n",
    "\n",
    "    def update(self):\n",
    "        for d in range(self.n_docs):\n",
    "            for i in range(self.n_words):\n",
    "                word_count = self.data_matrix[d, i]\n",
    "                if word_count > 0:\n",
    "                    topic_prob = (self.topic_word_counts[:, i] / self.topic_counts) * (self.document_topic_counts[d] / self.document_counts[d])\n",
    "                    topic_prob = np.nan_to_num(topic_prob, nan=0, posinf=None, neginf=None)\n",
    "                    topic_prob = np.clip(topic_prob, 1e-10, 1 - 1e-10)\n",
    "                    topic_prob /= np.sum(topic_prob)\n",
    "\n",
    "                    new_topic_count = np.random.multinomial(word_count, topic_prob)\n",
    "                    self.document_topic_counts[d] += new_topic_count\n",
    "                    self.document_counts[d] += word_count\n",
    "                    self.topic_word_counts[:, i] += new_topic_count\n",
    "                    self.topic_counts += new_topic_count\n",
    "\n",
    "    def fit(self):\n",
    "        self.initialize()\n",
    "        for _ in range(self.n_iters):\n",
    "            self.update()\n",
    "\n",
    "    def get_topics(self, vectorizer, n_top_words=10):\n",
    "        feature_names = vectorizer.get_feature_names_out()\n",
    "        topics = []\n",
    "        for topic_idx, topic in enumerate(self.topic_word_counts):\n",
    "            top_words = [feature_names[i] for i in topic.argsort()[:-n_top_words - 1:-1]]\n",
    "            topics.append((topic_idx, top_words))\n",
    "        return topics"
   ]
  },
  {
   "cell_type": "code",
   "execution_count": 4,
   "id": "1c90beef-a8de-4643-9abf-cde3790c3ea4",
   "metadata": {},
   "outputs": [],
   "source": [
    "# Função para treinar o modelo e extrair os tópicos\n",
    "def train_and_extract_topics(dataframe, column_name, n_topics, n_iters=100, n_top_words=10):\n",
    "    data_matrix, vectorizer = prepare_input_data(dataframe, column_name)\n",
    "    mtm = MTM(data_matrix, n_topics, n_iters)\n",
    "    mtm.fit()\n",
    "    topics = mtm.get_topics(vectorizer, n_top_words)\n",
    "    return topics"
   ]
  },
  {
   "cell_type": "code",
   "execution_count": null,
   "id": "219fe738-6aa5-4c20-90b9-77c9408e7ef4",
   "metadata": {},
   "outputs": [],
   "source": [
    "# Leitura dos dados do dataframe\n",
    "#df = pd.read_csv('datasets/(processado-final)textos_tuitesPt_2020.csv.gz', names=['texto'])\n",
    "df = pd.read_csv('datasets/(processado)textos_tuitesPt_2020_0.csv', names=['texto'])\n",
    "\n",
    "# Elimina um valor flutuante que aparece no dataframe (por razões misteriosas)\n",
    "# o algoritmo não aceita o valor flutuante, que precisa ser filtrado\n",
    "df = df[df['texto'].apply(lambda x: isinstance(x, str))]\n",
    "df['texto'].apply(type).value_counts()\n",
    "\n",
    "df"
   ]
  },
  {
   "cell_type": "code",
   "execution_count": null,
   "id": "73385fe2-5b03-4874-8885-37d66906b999",
   "metadata": {},
   "outputs": [],
   "source": [
    "n_topics = 10\n",
    "n_iters = 50\n",
    "n_top_words = 10\n",
    "\n",
    "topics = train_and_extract_topics(df, 'texto', n_topics, n_iters, n_top_words)"
   ]
  },
  {
   "cell_type": "code",
   "execution_count": null,
   "id": "2d41f831-1482-4524-b06a-7aa0c05802d5",
   "metadata": {},
   "outputs": [],
   "source": [
    "# Imprimir os tópicos encontrados\n",
    "for topic_idx, top_words in topics:\n",
    "    print(f\"Topic {topic_idx}:\")\n",
    "    print(\", \".join(top_words))"
   ]
  }
 ],
 "metadata": {
  "kernelspec": {
   "display_name": "Python 3 (ipykernel)",
   "language": "python",
   "name": "python3"
  },
  "language_info": {
   "codemirror_mode": {
    "name": "ipython",
    "version": 3
   },
   "file_extension": ".py",
   "mimetype": "text/x-python",
   "name": "python",
   "nbconvert_exporter": "python",
   "pygments_lexer": "ipython3",
   "version": "3.9.7"
  }
 },
 "nbformat": 4,
 "nbformat_minor": 5
}
