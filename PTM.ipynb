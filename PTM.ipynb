{
 "cells": [
  {
   "cell_type": "code",
   "execution_count": 1,
   "id": "87c2f971-33f6-4c4f-8d55-f84049cbf116",
   "metadata": {},
   "outputs": [],
   "source": [
    "import pandas as pd\n",
    "import numpy as np\n",
    "from sklearn.feature_extraction.text import TfidfVectorizer\n",
    "from sklearn.decomposition import NMF"
   ]
  },
  {
   "cell_type": "code",
   "execution_count": 2,
   "id": "fcf81227-6ded-4c1c-a227-f2bd0e950575",
   "metadata": {},
   "outputs": [],
   "source": [
    "def create_pseudo_documents(df, column, num_pseudo_docs, num_top_words):\n",
    "    # Agrupar documentos em pseudo-documentos\n",
    "    step = len(df) // num_pseudo_docs\n",
    "    pseudo_documents = [' '.join(df[column][i:i+step]) for i in range(0, len(df), step)]\n",
    "\n",
    "    return pseudo_documents"
   ]
  },
  {
   "cell_type": "code",
   "execution_count": 3,
   "id": "3eb88ed4-367a-4747-9576-3001e076976d",
   "metadata": {},
   "outputs": [],
   "source": [
    "def ptm(df, column, num_topics, num_pseudo_docs, num_top_words):\n",
    "    # Criar pseudo-documentos\n",
    "    pseudo_documents = create_pseudo_documents(df, column, num_pseudo_docs, num_top_words)\n",
    "    \n",
    "    # Vectorizar o texto usando TF-IDF\n",
    "    vectorizer = TfidfVectorizer(max_df=1.0, min_df=1, stop_words='english')\n",
    "    tfidf = vectorizer.fit_transform(pseudo_documents)\n",
    "\n",
    "    # Aplicar NMF para extrair tópicos\n",
    "    nmf = NMF(n_components=num_topics, random_state=1).fit(tfidf)\n",
    "    feature_names = vectorizer.get_feature_names()\n",
    "\n",
    "    # Exibir tópicos e palavras-chave\n",
    "    topics = []\n",
    "    for topic_idx, topic in enumerate(nmf.components_):\n",
    "        top_words = [feature_names[i] for i in topic.argsort()[:-num_top_words - 1:-1]]\n",
    "        topics.append((topic_idx, top_words))\n",
    "        print(f\"Topic #{topic_idx}: {', '.join(top_words)}\")\n",
    "\n",
    "    return topics"
   ]
  },
  {
   "cell_type": "code",
   "execution_count": null,
   "id": "d8854291-ca27-4a70-8ceb-278361d798a7",
   "metadata": {},
   "outputs": [],
   "source": [
    "# Leitura dos dados do dataframe\n",
    "#df = pd.read_csv('datasets/(processado-final)textos_tuitesPt_2020.csv.gz', names=['texto'])\n",
    "df = pd.read_csv('datasets/(processado)textos_tuitesPt_2020_0.csv', names=['texto'])\n",
    "\n",
    "# Elimina um valor flutuante que aparece no dataframe (por razões misteriosas)\n",
    "# o algoritmo não aceita o valor flutuante, que precisa ser filtrado\n",
    "df = df[df['texto'].apply(lambda x: isinstance(x, str))]\n",
    "df['texto'].apply(type).value_counts()\n",
    "\n",
    "df"
   ]
  },
  {
   "cell_type": "code",
   "execution_count": null,
   "id": "e8b81606-1e7b-4d46-9baa-569e41f012bb",
   "metadata": {},
   "outputs": [],
   "source": [
    "num_topics = 10\n",
    "num_pseudo_docs = 2\n",
    "num_top_words = 10\n",
    "\n",
    "topics = ptm(df, 'texto', num_topics, num_pseudo_docs, num_top_words)"
   ]
  }
 ],
 "metadata": {
  "kernelspec": {
   "display_name": "Python 3 (ipykernel)",
   "language": "python",
   "name": "python3"
  },
  "language_info": {
   "codemirror_mode": {
    "name": "ipython",
    "version": 3
   },
   "file_extension": ".py",
   "mimetype": "text/x-python",
   "name": "python",
   "nbconvert_exporter": "python",
   "pygments_lexer": "ipython3",
   "version": "3.9.7"
  }
 },
 "nbformat": 4,
 "nbformat_minor": 5
}
